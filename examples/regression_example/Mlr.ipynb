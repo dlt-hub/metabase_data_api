{
  "nbformat": 4,
  "nbformat_minor": 0,
  "metadata": {
    "colab": {
      "name": "Mlr.ipynb",
      "provenance": [],
      "collapsed_sections": []
    },
    "kernelspec": {
      "name": "python3",
      "display_name": "Python 3"
    },
    "language_info": {
      "name": "python"
    }
  },
  "cells": [
    {
      "cell_type": "code",
      "source": [
        "!apt-get -qq install -y libarchive-dev && pip install -U metabase-data-api"
      ],
      "metadata": {
        "id": "aQoj759T0ywG"
      },
      "execution_count": null,
      "outputs": []
    },
    {
      "cell_type": "code",
      "source": [
        "\n",
        "from metabase_data_api import MetabaseDataApi as M\n",
        "import json\n",
        "\n",
        "\n",
        "\n",
        "url = \"\" #@param {type:\"string\"}\n",
        "username = \"\" #@param {type:\"string\"}\n",
        "password = \"\" #@param {type:\"string\"}\n",
        "\n",
        "session_params = dict(user=username,\n",
        "                      password=password,\n",
        "                      url=url\n",
        "                      )\n",
        "\n",
        "query  = \"\"\"select date_created, \n",
        " orders,\n",
        " visitors,\n",
        " app_users,\n",
        " app_orders,\n",
        "--\n",
        "from schema_name.tablename jt \n",
        " \"\"\"\n",
        "\n",
        "mbapi = M(**session_params)\n",
        "\n",
        "#you can get the database id from the metabase url\n",
        "d = mbapi.export_from_query(query, database_id=3)\n",
        "data = json.loads(d.decode(\"utf-8\"))\n",
        "#print(data)\n"
      ],
      "metadata": {
        "id": "MLsD3NUlK4t7"
      },
      "execution_count": null,
      "outputs": []
    },
    {
      "cell_type": "code",
      "execution_count": null,
      "metadata": {
        "id": "sBT1jCWNppBl"
      },
      "outputs": [],
      "source": [
        "import pandas as pd\n",
        "import statsmodels.api as sm\n",
        "\n",
        "df = pd.DataFrame.from_records(data, index = 'date_created')\n",
        "\n",
        "Y = df['orders']\n",
        "X = df[['visitors','app_users']]\n",
        "\n",
        "X = sm.add_constant(X)\n",
        "model = sm.OLS(Y, X).fit()\n",
        "\n",
        "summary = model.summary()\n",
        "params = model.params\n",
        "\n",
        "df_out = df[['app_orders']]\n",
        "df_out['orders_correlated_to_app_use'] = df.app_users * params['app_users']\n",
        "df_out['rest_orders'] = df.orders - df.app_users * params['app_users'] - df.app_orders \n",
        "print(summary)\n",
        "#print(df_out)\n",
        "\n",
        "df_out.sort_index(inplace=True)\n",
        "#plot area chart (stacked) and show the slope of the app use contribution to orders\n",
        "df_out.plot.area(title=f\"\"\"Order source regression.\\n App users order contribution slope: {params['app_users']}.\\n Yesterday correlated order contribution: {params['app_users'] * df['app_users'].iloc[0]}\"\"\",\n",
        "                 figsize=(20,10))\n",
        "\n"
      ]
    }
  ]
}